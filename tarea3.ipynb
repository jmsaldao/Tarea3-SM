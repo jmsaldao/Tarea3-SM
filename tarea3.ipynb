{
 "cells": [
  {
   "cell_type": "code",
   "execution_count": null,
   "id": "702c0509-a444-4bfd-802f-9e42694e9ccf",
   "metadata": {},
   "outputs": [],
   "source": [
    "# Tarea3-Jose Maria Saldaño Guijarro"
   ]
  },
  {
   "cell_type": "markdown",
   "id": "9ab96707-8077-4b75-8812-20af79932630",
   "metadata": {},
   "source": [
    "## Configuración"
   ]
  },
  {
   "cell_type": "markdown",
   "id": "824a635a-af9a-4c70-b639-9e654c8a78a8",
   "metadata": {},
   "source": [
    "He creado un repositorio llamado  Tarea3-SM y lo he clonado en local con el comando \"git clone <url>\" .\n",
    "Después he creado un entorno con el comando \"conda create --name=tarea3\" y lo activo con el comando \"conda activate tarea3\".\n",
    "Instalo Python 3.10, ipykernel y JupyterLab en el entorno y añado el entorno conda al kernel de JupyterLab con el comando \"python3 -m ipykernel install --user --name=tarea3\".\n",
    "Instalo JupyterLab en el entorno tarea3 y ejecuto JupyterLab y creo un notebook vacío seleccionando como kernel tarea3.\n",
    "\n"
   ]
  },
  {
   "cell_type": "code",
   "execution_count": null,
   "id": "162baa1d-9600-411e-820e-d5f0fb3922b5",
   "metadata": {},
   "outputs": [],
   "source": [
    "# Importacion.\n",
    "from scipy.io import wavfile\n",
    "import IPython\n",
    "import os\n",
    "import numpy as np\n",
    "import matplotlib.pyplot as plt"
   ]
  },
  {
   "cell_type": "markdown",
   "id": "16f779ff-a0cd-4e3e-8c47-0b9fd6bc0232",
   "metadata": {},
   "source": [
    "## He tenido que cambiar el kernel porque tras instalar spicy seguía sin funcionar."
   ]
  },
  {
   "cell_type": "markdown",
   "id": "708d8c9f-044f-45dc-8cb9-bd6d45b85557",
   "metadata": {},
   "source": [
    "### Especificamos directorios de entrada y salida"
   ]
  },
  {
   "cell_type": "code",
   "execution_count": null,
   "id": "eec64547-b513-422e-ac6a-e32de5478a05",
   "metadata": {},
   "outputs": [],
   "source": [
    "# Directorios que usaremos.\n",
    "cwd = os.getcwd()\n",
    "audio_input_path = os.path.join(cwd, os.path.join('audio', 'examples'))  \n",
    "audio_output_path = os.path.join(cwd, os.path.join('audio', '_output'))\n",
    "print(f'Directorio con los audios de entrada: {audio_input_path}')\n",
    "print(f'Directorio donde guardaremos los audios generados: {audio_output_path}\\n')\n"
   ]
  },
  {
   "cell_type": "code",
   "execution_count": null,
   "id": "f32227d1-06f4-4dc5-823c-7476d249142c",
   "metadata": {},
   "outputs": [],
   "source": [
    "### Cargamos audio"
   ]
  },
  {
   "cell_type": "code",
   "execution_count": null,
   "id": "4a74f5e9-d63b-45e7-9ff9-0fc7372f5d52",
   "metadata": {},
   "outputs": [],
   "source": [
    "# Cargamos el archivo de audio.\n",
    "filename = os.path.join(audio_input_path, 'breaking_bad.wav')\n",
    "# audio_data, sample_rate = librosa.load(filename, sr=None, mono=False)\n",
    "sample_rate, audio_data = wavfile.read(filename)\n",
    "print(f'Frecuencia de muestreo (sample rate): {sample_rate/1000} kHz')"
   ]
  },
  {
   "cell_type": "markdown",
   "id": "a544b5e4-e37e-47fa-b5f9-e21cd09ca554",
   "metadata": {},
   "source": [
    "### Probamos el audio"
   ]
  },
  {
   "cell_type": "code",
   "execution_count": null,
   "id": "3095af5e-b3a9-4c82-b04b-fc6ffe7fd01c",
   "metadata": {},
   "outputs": [],
   "source": [
    "IPython.display.Audio(audio_data.T, rate=sample_rate)"
   ]
  },
  {
   "cell_type": "markdown",
   "id": "219e0186-e336-4340-831b-4a1756bdddd4",
   "metadata": {},
   "source": [
    "### Mostramos características"
   ]
  },
  {
   "cell_type": "code",
   "execution_count": null,
   "id": "2233cbb3-19af-4cb7-a2fc-89cde86426f2",
   "metadata": {},
   "outputs": [],
   "source": [
    "# Mostrar informacion del tamaño , canales, resolución (sonido estéreo).\n",
    "print('Datos de audio (estereo):')\n",
    "print(f'- Tamaño:     {audio_data.shape}')\n",
    "print(f'- 1º canal:   {audio_data[:5, 0]}...')\n",
    "print(f'- 2º canal:   {audio_data[:5, 1]}...')\n",
    "print(f'- Resolucion: {type(audio_data[0,0])}\\n')"
   ]
  },
  {
   "cell_type": "markdown",
   "id": "345fe93e-2d81-47b5-9f86-33165ffcf124",
   "metadata": {},
   "source": [
    "### Convertimos de estéreo a mono y mostramos las características "
   ]
  },
  {
   "cell_type": "code",
   "execution_count": null,
   "id": "499a9d68-f7d0-4faf-96db-e67492320805",
   "metadata": {},
   "outputs": [],
   "source": [
    "# Convertimos a mono mediante la media por canal (simplificacion).\n",
    "new_data_mono = audio_data.mean(axis=1)  # Column-wise.\n",
    "print('Nuevos datos de audio (mono):')\n",
    "print(f'- Nuevo tamaño: {new_data_mono.shape}')\n",
    "print(f'- Canal unico:  {new_data_mono[:5]}...')\n",
    "\n",
    "# Mantenemos la misma resolucion que antes.\n",
    "new_data_mono = new_data_mono.astype(np.int16)\n",
    "print(f'- Resolucion:   {type(new_data_mono[0])}\\n')\n"
   ]
  },
  {
   "cell_type": "markdown",
   "id": "fb416766-c158-4359-8be6-7d770b87143f",
   "metadata": {},
   "source": [
    "### Guardamos el archivo mono\n"
   ]
  },
  {
   "cell_type": "code",
   "execution_count": null,
   "id": "9dc840d1-da58-42a2-a705-edc12b0d4fa6",
   "metadata": {},
   "outputs": [],
   "source": [
    "# Guardamos el archivo mono a un fichero de tipo wav.\n",
    "wavfile.write(\n",
    "    filename=os.path.join(audio_output_path, 'sample1_mono.wav'),\n",
    "    rate=sample_rate,\n",
    "    data=new_data_mono\n",
    ")\n"
   ]
  },
  {
   "cell_type": "code",
   "execution_count": null,
   "id": "876452f4-eea6-4d69-a537-96519438a96b",
   "metadata": {},
   "outputs": [],
   "source": [
    "### Probamos el audio mono"
   ]
  },
  {
   "cell_type": "code",
   "execution_count": null,
   "id": "76ff5f70-b8f1-490a-92fc-cb5c74396f23",
   "metadata": {},
   "outputs": [],
   "source": [
    "IPython.display.Audio(new_data_mono, rate=sample_rate)\n"
   ]
  },
  {
   "cell_type": "markdown",
   "id": "237d56d7-d42f-4509-9825-b0c368df3a41",
   "metadata": {},
   "source": [
    "### Diferencia entre mono y estéreo"
   ]
  },
  {
   "cell_type": "markdown",
   "id": "59ad77b7-a73e-40e4-b14b-66b83598282c",
   "metadata": {},
   "source": [
    "La gran diferencia es que en mono a la hora de grabar y reproducir sólo existe un único canal y en estéreo tenemos dos canales y no se reproduce lo mismo por los dos canales, existen diferencia entre los dos canales."
   ]
  },
  {
   "cell_type": "markdown",
   "id": "d34e7996-0edc-4488-b617-fe9b1e2f411a",
   "metadata": {},
   "source": [
    "### Comprobamos la diferencia de tamaño en cada archivo"
   ]
  },
  {
   "cell_type": "code",
   "execution_count": null,
   "id": "9f437070-0800-4a2c-ad88-1c4002b8c862",
   "metadata": {},
   "outputs": [],
   "source": [
    "!ls -sh audio/examples/breaking_bad.wav\n",
    "!ls -sh audio/_output/sample1_mono.wav"
   ]
  },
  {
   "cell_type": "code",
   "execution_count": null,
   "id": "ab64b85d-ad52-4c78-8765-bb1f78a7d9be",
   "metadata": {},
   "outputs": [],
   "source": [
    "print(f'Frecuencia de muestreo (sample rate): {sample_rate/1000} kHz\\n')"
   ]
  },
  {
   "cell_type": "markdown",
   "id": "f835bc68-ab4d-4660-899e-5aff3118b8c8",
   "metadata": {},
   "source": [
    "## Segunda parte de la práctica"
   ]
  },
  {
   "cell_type": "markdown",
   "id": "4f95330f-0f77-4c71-adb7-c2b4c1d8b7ea",
   "metadata": {},
   "source": [
    "### Gráfica en el dominio del tiempo para el audio mono y estéreo"
   ]
  },
  {
   "cell_type": "code",
   "execution_count": null,
   "id": "0e7c38af-c603-4fee-b8ad-436b6cbd4232",
   "metadata": {},
   "outputs": [],
   "source": [
    "#cargamos un nuevo auido estereo\n",
    "\n",
    "sample_rate_emotional, audio_data_emotional = wavfile.read(filename=os.path.join(audio_input_path, 'emotional_soundtrack.wav'))\n",
    "\n"
   ]
  },
  {
   "cell_type": "code",
   "execution_count": null,
   "id": "863778a3-6e39-4fd2-938a-f7369202b1c8",
   "metadata": {},
   "outputs": [],
   "source": [
    "ampl_values_mono = len(new_data_mono)\n",
    "ampl_values_emotional = len(audio_data_emotional)\n",
    "print(f'Número de muestras del audio viola (valores de amplitud): {ampl_values_mono}')\n",
    "print(f'Número de muestras del audio emotional (valores de amplitud): {ampl_values_emotional}')"
   ]
  },
  {
   "cell_type": "code",
   "execution_count": null,
   "id": "02f8a23b-60e6-4fef-8906-cfd650f0419f",
   "metadata": {},
   "outputs": [],
   "source": [
    "# Construimos el array para el eje x que representa el tiempo de la grabación.\n",
    "# Tiene la forma: np.arange(Vi, Vf, P). \n",
    "t1 = np.arange(0, ampl_values_mono/sample_rate, 1/sample_rate)\n",
    "t2 = np.arange(0, ampl_values_emotional/sample_rate_emotional, 1/sample_rate_emotional)\n"
   ]
  },
  {
   "cell_type": "code",
   "execution_count": null,
   "id": "c61da699-68cf-4876-a612-fd335986460a",
   "metadata": {},
   "outputs": [],
   "source": [
    "print(t1)\n",
    "print(t2)"
   ]
  },
  {
   "cell_type": "code",
   "execution_count": null,
   "id": "be024b8e-5b71-4844-b62a-9ffef6b5b2f2",
   "metadata": {},
   "outputs": [],
   "source": [
    "# Creamos la figura.\n",
    "fig, ax = plt.subplots(2, 1, figsize=(12, 6), sharex=True)\n",
    "\n",
    "# Solo mostramos las primeras 50 muestras de amplitud (por claridad).\n",
    "end = 50\n",
    "\n",
    "# Señal mono.\n",
    "ax[0].plot(t1[:end], new_data_mono[:end], marker='X')\n",
    "ax[0].set_title(f'Audio en el dominio del tiempo muestreado a {sample_rate} Hz')\n",
    "ax[0].set_ylabel('Amplitud')\n",
    "ax[0].grid(True)\n",
    "\n",
    "# Señal emotional.\n",
    "# Utilizamos ratio para ajustar el eje x de ambas gráficas\n",
    "# ya que la fs es menor en esta señal.\n",
    "ratio = sample_rate / sample_rate_emotional  \n",
    "ax[1].plot(t2[:int(end/ratio)], audio_data_emotional[:int(end/ratio)], c='tab:red', marker='X')\n",
    "ax[1].set_title(f'Audio en el dominio del tiempo muestreado a {sample_rate_emotional} Hz')\n",
    "ax[1].set_xlabel('Tiempo (s)')\n",
    "ax[1].set_ylabel('Amplitud')\n",
    "ax[1].grid(True)\n",
    "\n",
    "# Mostramos la figura.\n",
    "plt.tight_layout()\n",
    "plt.show()"
   ]
  },
  {
   "cell_type": "markdown",
   "id": "6952fc94-9495-4a35-a8c8-6c4b0af7d90b",
   "metadata": {},
   "source": [
    "### Frecuencia de muestreo"
   ]
  },
  {
   "cell_type": "markdown",
   "id": "d95f74d6-14ad-4ddc-b33c-914134532613",
   "metadata": {},
   "source": [
    "Es el número de muestras que tomamos por unidad de tiempo de una señal analógica para conventirla en digital."
   ]
  },
  {
   "cell_type": "markdown",
   "id": "4c7a5974-6545-4192-b74e-d45746587709",
   "metadata": {},
   "source": [
    "### Aliasing"
   ]
  },
  {
   "cell_type": "markdown",
   "id": "4ac745db-a8b5-4bd1-b946-018dd2bbe91f",
   "metadata": {},
   "source": [
    "Este efecto sucede cuando diferentes señales continuas al transformarlas a digitales no se pueden distinguir debido a una frecuencia de muestreo muy baja."
   ]
  },
  {
   "cell_type": "markdown",
   "id": "09305853-d49d-44f0-8ead-097a27acea9a",
   "metadata": {},
   "source": [
    "### Profundidad de bits"
   ]
  },
  {
   "cell_type": "markdown",
   "id": "5f937849-3774-47dc-bcbc-5dda66a819d4",
   "metadata": {},
   "source": [
    "Es la cantidad de bits utilizado para medir una onda sonora."
   ]
  },
  {
   "cell_type": "markdown",
   "id": "b29d782b-0279-4784-bacb-c836ce3fa9c6",
   "metadata": {},
   "source": [
    "### Ancho de banda"
   ]
  },
  {
   "cell_type": "markdown",
   "id": "1df0fc0d-01ff-4b7e-bc17-7d9f12383c56",
   "metadata": {},
   "source": [
    "El ancho de banda es la longitud de la extensión de frecuencias en la que se concentra la mayor potencia de la señal. Se puede calcular con la transformada de Fourier."
   ]
  },
  {
   "cell_type": "markdown",
   "id": "a553dca8-183d-46ff-b5fe-ddb4daa92956",
   "metadata": {},
   "source": [
    "### Tasa de bits"
   ]
  },
  {
   "cell_type": "markdown",
   "id": "abf6035b-0165-4c34-8295-ce1ef5ec9d11",
   "metadata": {},
   "source": [
    "Es el número de bits que se transmiten por segundo a través de un sistema de transmisión digital o entre  dispositivos digitales."
   ]
  },
  {
   "cell_type": "markdown",
   "id": "b1d3fadc-9bb2-4982-87e5-140e65dd705b",
   "metadata": {},
   "source": [
    "## Transformada de Fourier de audio mono"
   ]
  },
  {
   "cell_type": "code",
   "execution_count": null,
   "id": "31e6d1b6-05bc-4690-bfed-472274d51eb0",
   "metadata": {},
   "outputs": [],
   "source": [
    "# La longitud del array de datos y el\n",
    "# sample rate (frecuencia de muestreo).\n",
    "n = len(new_data_mono)\n",
    "Fs = sample_rate\n",
    "\n",
    "\n",
    "# Calculando la Transformada Rapida de Fourier (FFT) en audio mono.\n",
    "ch_Fourier = np.fft.fft(new_data_mono)  # ch1\n",
    "\n",
    "# Solo miramos frecuencia por debajo de Fs/2\n",
    "# (Nyquist-Shannon) --> Spectrum.\n",
    "abs_ch_Fourier = np.absolute(ch_Fourier[:n//2])\n",
    "\n",
    "# Graficamos.\n",
    "plt.plot(np.linspace(0, Fs/2, n//2), abs_ch_Fourier)\n",
    "plt.ylabel('Amplitud', labelpad=10)\n",
    "plt.xlabel('$f$ (Hz)', labelpad=10)\n",
    "plt.show()"
   ]
  },
  {
   "cell_type": "markdown",
   "id": "b99313a9-e8aa-4aef-b9f4-91f13db75c6e",
   "metadata": {},
   "source": [
    "La \"Transformación rápida de Fourier\"  descompone una señal en sus componentes espectrales individuales, proporcionando información sobre su composición."
   ]
  },
  {
   "cell_type": "markdown",
   "id": "9df9f07f-c89b-417f-8f00-3c472d58c5ec",
   "metadata": {},
   "source": [
    "### Energia del espectrograma y frecuencia de corte"
   ]
  },
  {
   "cell_type": "markdown",
   "id": "51906cd0-a515-431c-ada5-13bc832245d6",
   "metadata": {},
   "source": [
    "Nos vamos a quedar con las frencuencias que estén por debajo de la frecuencia umbral, este valor lo definiremos nosotros."
   ]
  },
  {
   "cell_type": "markdown",
   "id": "c7bbf6ef-8e7f-41cd-b75a-53e198d573b0",
   "metadata": {},
   "source": [
    "Vamos a probar con varios epsilons y vamos a comprobar que a medida que aumenta su valor, se mantienen menos frecuencias por lo que la calidad del audio es peor aunque el tamaño del archivo de salida sea más reducido,"
   ]
  },
  {
   "cell_type": "code",
   "execution_count": null,
   "id": "ed94a174-c6ed-41fb-96e4-4f23e212baac",
   "metadata": {},
   "outputs": [],
   "source": [
    "# Definimos diferentes epsilons: la parte de\n",
    "# la energia del espectro que NO conservamos.\n",
    "eps = [1e-5, .02, .041, .063, .086, .101, .123]\n",
    "\n",
    "# Jugamos con los valores de epsilon (ID VARIANDO ESTE VALOR Y MIRAD LA GRÁFICA).\n",
    "eps = eps[0]\n",
    "print(f'Epsilon: {eps}')\n",
    "\n",
    "# Calculamos el valor de corte para esta energia.\n",
    "thr_spec_energy = (1 - eps) * np.sum(abs_ch_Fourier)\n",
    "print(f'Valor de corte para la energia del espectro: {thr_spec_energy}')\n",
    "\n",
    "# Integral de la frecuencia --> energia del espectro.\n",
    "spec_energy = np.cumsum(abs_ch_Fourier)\n",
    "\n",
    "# Mascara (array booleano) que compara el\n",
    "# valor de corte con la energia del espectro.\n",
    "frequencies_to_remove = thr_spec_energy < spec_energy  \n",
    "print(f'Mascara: {frequencies_to_remove}')\n",
    "\n",
    "# La frecuencia f0 por la que cortamos el espectro.\n",
    "f0 = (len(frequencies_to_remove) - np.sum(frequencies_to_remove)) * (Fs/2) / (n//2)\n",
    "print(f'Frecuencia de corte f0 (Hz): {int(f0)}')\n",
    "\n",
    "# Graficamos.\n",
    "plt.axvline(f0, color='r')\n",
    "plt.plot(np.linspace(0, Fs/2, n//2), abs_ch_Fourier)\n",
    "plt.ylabel('Amplitud')\n",
    "plt.xlabel('$f$ (Hz)')\n",
    "plt.show()"
   ]
  },
  {
   "cell_type": "markdown",
   "id": "efb930fb-ad65-4607-9e08-51f5750f22de",
   "metadata": {},
   "source": [
    "Cambiamos el epsilon"
   ]
  },
  {
   "cell_type": "code",
   "execution_count": null,
   "id": "db303140-eace-4495-ad1b-46d5d93e560d",
   "metadata": {},
   "outputs": [],
   "source": [
    "# Definimos diferentes epsilons: la parte de\n",
    "# la energia del espectro que NO conservamos.\n",
    "eps = [1e-5, .02, .041, .063, .086, .101, .123]\n",
    "\n",
    "# Jugamos con los valores de epsilon (ID VARIANDO ESTE VALOR Y MIRAD LA GRÁFICA).\n",
    "eps = eps[3]\n",
    "print(f'Epsilon: {eps}')\n",
    "\n",
    "# Calculamos el valor de corte para esta energia.\n",
    "thr_spec_energy = (1 - eps) * np.sum(abs_ch_Fourier)\n",
    "print(f'Valor de corte para la energia del espectro: {thr_spec_energy}')\n",
    "\n",
    "# Integral de la frecuencia --> energia del espectro.\n",
    "spec_energy = np.cumsum(abs_ch_Fourier)\n",
    "\n",
    "# Mascara (array booleano) que compara el\n",
    "# valor de corte con la energia del espectro.\n",
    "frequencies_to_remove = thr_spec_energy < spec_energy  \n",
    "print(f'Mascara: {frequencies_to_remove}')\n",
    "\n",
    "# La frecuencia f0 por la que cortamos el espectro.\n",
    "f0 = (len(frequencies_to_remove) - np.sum(frequencies_to_remove)) * (Fs/2) / (n//2)\n",
    "print(f'Frecuencia de corte f0 (Hz): {int(f0)}')\n",
    "\n",
    "# Graficamos.\n",
    "plt.axvline(f0, color='r')\n",
    "plt.plot(np.linspace(0, Fs/2, n//2), abs_ch_Fourier)\n",
    "plt.ylabel('Amplitud')\n",
    "plt.xlabel('$f$ (Hz)')\n",
    "plt.show()"
   ]
  },
  {
   "cell_type": "markdown",
   "id": "cb588cdb-095e-45bd-9abb-9b078aa5d235",
   "metadata": {},
   "source": [
    "Probamos con el mayor epsilon definido"
   ]
  },
  {
   "cell_type": "code",
   "execution_count": null,
   "id": "832253ba-8e89-4f0a-939f-f27d1b35a3c3",
   "metadata": {},
   "outputs": [],
   "source": [
    "# Definimos diferentes epsilons: la parte de\n",
    "# la energia del espectro que NO conservamos.\n",
    "eps = [1e-5, .02, .041, .063, .086, .101, .123]\n",
    "\n",
    "# Jugamos con los valores de epsilon (ID VARIANDO ESTE VALOR Y MIRAD LA GRÁFICA).\n",
    "eps = eps[6]\n",
    "print(f'Epsilon: {eps}')\n",
    "\n",
    "# Calculamos el valor de corte para esta energia.\n",
    "thr_spec_energy = (1 - eps) * np.sum(abs_ch_Fourier)\n",
    "print(f'Valor de corte para la energia del espectro: {thr_spec_energy}')\n",
    "\n",
    "# Integral de la frecuencia --> energia del espectro.\n",
    "spec_energy = np.cumsum(abs_ch_Fourier)\n",
    "\n",
    "# Mascara (array booleano) que compara el\n",
    "# valor de corte con la energia del espectro.\n",
    "frequencies_to_remove = thr_spec_energy < spec_energy  \n",
    "print(f'Mascara: {frequencies_to_remove}')\n",
    "\n",
    "# La frecuencia f0 por la que cortamos el espectro.\n",
    "f0 = (len(frequencies_to_remove) - np.sum(frequencies_to_remove)) * (Fs/2) / (n//2)\n",
    "print(f'Frecuencia de corte f0 (Hz): {int(f0)}')\n",
    "\n",
    "# Graficamos.\n",
    "plt.axvline(f0, color='r')\n",
    "plt.plot(np.linspace(0, Fs/2, n//2), abs_ch_Fourier)\n",
    "plt.ylabel('Amplitud')\n",
    "plt.xlabel('$f$ (Hz)')\n",
    "plt.show()"
   ]
  },
  {
   "cell_type": "markdown",
   "id": "6be69061-cc57-42ed-8ae6-e64a18d18e47",
   "metadata": {},
   "source": [
    "Vemos que mientras mayor es el epsilon menor es la frecuencia de corte."
   ]
  },
  {
   "cell_type": "markdown",
   "id": "4569c19c-0f74-463d-9b26-a604816d87a2",
   "metadata": {},
   "source": [
    "### Comprimir la onda aplicando downsampling"
   ]
  },
  {
   "cell_type": "code",
   "execution_count": null,
   "id": "a2c415df-ad8a-4c49-827b-ebc63b2c0bf8",
   "metadata": {},
   "outputs": [],
   "source": [
    "# Definimos los nombres de los audios comprimidos.\n",
    "wav_compressed_file = \"sample_mono_compressed.wav\"\n",
    "\n",
    "# Calculamos el factor D de downsampling.\n",
    "D = int(Fs / f0)\n",
    "print(f'Factor de downsampling: {D}')\n",
    "\n",
    "# Obtenemos los nuevos datos (slicing with stride).\n",
    "new_data = new_data_mono[::D]\n",
    "\n",
    "# Escribimos los datos a un archivo de tipo wav.\n",
    "wavfile.write(\n",
    "    filename=os.path.join(audio_output_path, wav_compressed_file),\n",
    "    rate=int(Fs/D),\n",
    "    data=new_data\n",
    ")\n",
    "\n",
    "# Cargamos el nuevo archivo.\n",
    "new_sample_rate, new_audio_data = wavfile.read(filename=os.path.join(audio_output_path, wav_compressed_file))"
   ]
  },
  {
   "cell_type": "markdown",
   "id": "4fc534b8-971d-409c-bcac-c56c986ff760",
   "metadata": {},
   "source": [
    "Lo escuchamos para ver la diferencia de calidad"
   ]
  },
  {
   "cell_type": "code",
   "execution_count": null,
   "id": "220ae99e-cb42-4880-bea4-6420ca9d2c77",
   "metadata": {},
   "outputs": [],
   "source": [
    "IPython.display.Audio(new_audio_data, rate=new_sample_rate)"
   ]
  },
  {
   "cell_type": "markdown",
   "id": "1e082bca-1881-43c5-a7e0-f832971774ba",
   "metadata": {},
   "source": [
    "Vemos que el tamaño final es menor"
   ]
  },
  {
   "cell_type": "code",
   "execution_count": null,
   "id": "b088bede-9e6b-4278-8b26-f2630b956c38",
   "metadata": {},
   "outputs": [],
   "source": [
    "!ls -sh audio/_output/sample_mono_compressed.wav"
   ]
  },
  {
   "cell_type": "markdown",
   "id": "919f8ef9-c995-47d1-886e-da8fb51d55d7",
   "metadata": {},
   "source": [
    "### Analizamos el espectograma de ambas ondas"
   ]
  },
  {
   "cell_type": "code",
   "execution_count": null,
   "id": "96958bac-e7e7-4765-b03c-421f6495391c",
   "metadata": {},
   "outputs": [],
   "source": [
    "fig, ax = plt.subplots(2, 1, figsize=(12, 8), sharex=True)\n",
    "\n",
    "Pxx, freqs, bins, im = ax[0].specgram(new_data_mono, NFFT=1024, Fs=sample_rate, noverlap=512)\n",
    "ax[0].set_title('Espectograma del audio original')\n",
    "ax[0].set_ylabel('Frecuencia (Hz)')\n",
    "ax[0].grid(True)\n",
    "\n",
    "Pxx, freqs, bins, im = ax[1].specgram(new_audio_data, NFFT=1024, Fs=new_sample_rate, noverlap=512)\n",
    "ax[1].set_title('Espectrograma del audio reducido/comprimido')\n",
    "ax[1].set_xlabel('Tiempo (s)')\n",
    "ax[1].set_ylabel('Frecuencia (Hz)')\n",
    "ax[1].grid(True)\n",
    "\n",
    "plt.tight_layout()\n",
    "plt.show()\n"
   ]
  },
  {
   "cell_type": "markdown",
   "id": "981dc279-c77c-4a1a-bf07-eb6540739ba2",
   "metadata": {},
   "source": [
    "La primera gran diferencia que visualizo son los cambios en la frecuencia, en el audio original las frecuencias son mucho más altas que las del audio comprimido, esto era de esperar debido al factor de downsampling que hemos calculado con la frecuencia de corte."
   ]
  },
  {
   "cell_type": "markdown",
   "id": "065094d5-93c4-4712-8f28-f23b344fcc73",
   "metadata": {},
   "source": [
    "Otra diferencia es que en el espectograma del audio comprimido aparecen algunas distorsiones que en el audio original no existen."
   ]
  },
  {
   "cell_type": "markdown",
   "id": "32b6f080-e18e-4c9a-9f04-540eec8d424a",
   "metadata": {},
   "source": [
    "### Mostramos el tamaño de ambos archivos"
   ]
  },
  {
   "cell_type": "code",
   "execution_count": null,
   "id": "d3f97816-b2dc-4b2f-98f1-35d3dc354c9c",
   "metadata": {},
   "outputs": [],
   "source": [
    "!ls -sh audio/_output/sample1_mono.wav\n",
    "!ls -sh audio/_output/sample_mono_compressed.wav"
   ]
  },
  {
   "cell_type": "markdown",
   "id": "206ba094-6d8b-4464-af31-b509a8259d38",
   "metadata": {},
   "source": [
    "### Reproducción de ambos archivos"
   ]
  },
  {
   "cell_type": "code",
   "execution_count": null,
   "id": "0635f10d-b281-400d-8de7-46489328135e",
   "metadata": {},
   "outputs": [],
   "source": [
    "#Archivo original\n",
    "IPython.display.Audio(new_data_mono, rate=sample_rate)\n",
    "\n"
   ]
  },
  {
   "cell_type": "code",
   "execution_count": null,
   "id": "344a3815-4b36-47c6-b9fb-965788e1dc9e",
   "metadata": {},
   "outputs": [],
   "source": [
    "#Archivo comprimido\n",
    "IPython.display.Audio(new_audio_data, rate=new_sample_rate)"
   ]
  },
  {
   "cell_type": "code",
   "execution_count": null,
   "id": "30598b68-bdea-4b01-9098-68205146f135",
   "metadata": {},
   "outputs": [],
   "source": []
  }
 ],
 "metadata": {
  "kernelspec": {
   "display_name": "audiopy",
   "language": "python",
   "name": "audiopy"
  },
  "language_info": {
   "codemirror_mode": {
    "name": "ipython",
    "version": 3
   },
   "file_extension": ".py",
   "mimetype": "text/x-python",
   "name": "python",
   "nbconvert_exporter": "python",
   "pygments_lexer": "ipython3",
   "version": "3.11.7"
  }
 },
 "nbformat": 4,
 "nbformat_minor": 5
}
