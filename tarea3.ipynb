{
 "cells": [
  {
   "cell_type": "markdown",
   "id": "63afd7dd-e126-4b1d-934a-0b44b4787746",
   "metadata": {},
   "source": [
    "# Tarea3-Jose Maria Saldaño Guijarro"
   ]
  },
  {
   "cell_type": "markdown",
   "id": "9ab96707-8077-4b75-8812-20af79932630",
   "metadata": {},
   "source": [
    "## Configuración"
   ]
  },
  {
   "cell_type": "markdown",
   "id": "824a635a-af9a-4c70-b639-9e654c8a78a8",
   "metadata": {},
   "source": [
    "He creado un repositorio llamado  Tarea3-SM y lo he clonado en local con el comando \"git clone <url>\" .\n",
    "Después he creado un entorno con el comando \"conda create --name=tarea3\" y lo activo con el comando \"conda activate tarea3\".\n",
    "Instalo Python 3.10, ipykernel y JupyterLab en el entorno y añado el entorno conda al kernel de JupyterLab con el comando \"python3 -m ipykernel install --user --name=tarea3\".\n",
    "Instalo JupyterLab en el entorno tarea3 y ejecuto JupyterLab y creo un notebook vacío seleccionando como kernel tarea3.\n",
    "\n"
   ]
  },
  {
   "cell_type": "code",
   "execution_count": null,
   "id": "162baa1d-9600-411e-820e-d5f0fb3922b5",
   "metadata": {},
   "outputs": [],
   "source": [
    "# Importacion.\n",
    "# import librosa\n",
    "from scipy.io import wavfile\n",
    "import IPython\n",
    "import os\n",
    "import numpy as np"
   ]
  },
  {
   "cell_type": "markdown",
   "id": "16f779ff-a0cd-4e3e-8c47-0b9fd6bc0232",
   "metadata": {},
   "source": [
    "## He tenido que cambiar el kernel porque tras instalar spicy seguía sin funcionar."
   ]
  },
  {
   "cell_type": "markdown",
   "id": "708d8c9f-044f-45dc-8cb9-bd6d45b85557",
   "metadata": {},
   "source": [
    "### Especificamos directorios de entrada y salida"
   ]
  },
  {
   "cell_type": "code",
   "execution_count": null,
   "id": "eec64547-b513-422e-ac6a-e32de5478a05",
   "metadata": {},
   "outputs": [],
   "source": [
    "# Directorios que usaremos.\n",
    "cwd = os.getcwd()\n",
    "audio_input_path = os.path.join(cwd, os.path.join('audio', 'examples'))  \n",
    "audio_output_path = os.path.join(cwd, os.path.join('audio', '_output'))\n",
    "print(f'Directorio con los audios de entrada: {audio_input_path}')\n",
    "print(f'Directorio donde guardaremos los audios generados: {audio_output_path}\\n')"
   ]
  },
  {
   "cell_type": "markdown",
   "id": "7874214a-d3f0-4f60-b8d9-7994ca4cf1c5",
   "metadata": {},
   "source": [
    "### Cargamos audio"
   ]
  },
  {
   "cell_type": "code",
   "execution_count": null,
   "id": "4a74f5e9-d63b-45e7-9ff9-0fc7372f5d52",
   "metadata": {},
   "outputs": [],
   "source": [
    "# Cargamos el archivo de audio.\n",
    "filename = os.path.join(audio_input_path, 'breaking_bad.wav')\n",
    "# audio_data, sample_rate = librosa.load(filename, sr=None, mono=False)\n",
    "sample_rate, audio_data = wavfile.read(filename)\n",
    "print(f'Frecuencia de muestreo (sample rate): {sample_rate/1000} kHz')"
   ]
  },
  {
   "cell_type": "markdown",
   "id": "a544b5e4-e37e-47fa-b5f9-e21cd09ca554",
   "metadata": {},
   "source": [
    "### Probamos el audio"
   ]
  },
  {
   "cell_type": "code",
   "execution_count": null,
   "id": "3095af5e-b3a9-4c82-b04b-fc6ffe7fd01c",
   "metadata": {},
   "outputs": [],
   "source": [
    "IPython.display.Audio(audio_data.T, rate=sample_rate)"
   ]
  },
  {
   "cell_type": "markdown",
   "id": "219e0186-e336-4340-831b-4a1756bdddd4",
   "metadata": {},
   "source": [
    "### Mostramos características"
   ]
  },
  {
   "cell_type": "code",
   "execution_count": null,
   "id": "2233cbb3-19af-4cb7-a2fc-89cde86426f2",
   "metadata": {},
   "outputs": [],
   "source": [
    "# Mostrar informacion del tamaño , canales, resolución (sonido estéreo).\n",
    "print('Datos de audio (estereo):')\n",
    "print(f'- Tamaño:     {audio_data.shape}')\n",
    "print(f'- 1º canal:   {audio_data[:5, 0]}...')\n",
    "print(f'- 2º canal:   {audio_data[:5, 1]}...')\n",
    "print(f'- Resolucion: {type(audio_data[0,0])}\\n')"
   ]
  },
  {
   "cell_type": "markdown",
   "id": "345fe93e-2d81-47b5-9f86-33165ffcf124",
   "metadata": {},
   "source": [
    "### Convertimos de estéreo a mono y mostramos las características "
   ]
  },
  {
   "cell_type": "code",
   "execution_count": null,
   "id": "499a9d68-f7d0-4faf-96db-e67492320805",
   "metadata": {},
   "outputs": [],
   "source": [
    "# Convertimos a mono mediante la media por canal (simplificacion).\n",
    "new_data_mono = audio_data.mean(axis=1)  # Column-wise.\n",
    "print('Nuevos datos de audio (mono):')\n",
    "print(f'- Nuevo tamaño: {new_data_mono.shape}')\n",
    "print(f'- Canal unico:  {new_data_mono[:5]}...')\n",
    "\n",
    "# Mantenemos la misma resolucion que antes.\n",
    "new_data_mono = new_data_mono.astype(np.int16)\n",
    "print(f'- Resolucion:   {type(new_data_mono[0])}\\n')\n"
   ]
  },
  {
   "cell_type": "markdown",
   "id": "fb416766-c158-4359-8be6-7d770b87143f",
   "metadata": {},
   "source": [
    "### Probamos el audio mono"
   ]
  },
  {
   "cell_type": "code",
   "execution_count": null,
   "id": "76ff5f70-b8f1-490a-92fc-cb5c74396f23",
   "metadata": {},
   "outputs": [],
   "source": [
    "IPython.display.Audio(new_data_mono, rate=sample_rate)\n"
   ]
  },
  {
   "cell_type": "markdown",
   "id": "237d56d7-d42f-4509-9825-b0c368df3a41",
   "metadata": {},
   "source": [
    "### Diferencia entre mono y estéreo"
   ]
  },
  {
   "cell_type": "markdown",
   "id": "59ad77b7-a73e-40e4-b14b-66b83598282c",
   "metadata": {},
   "source": [
    "La gran diferencia es que en mono a la hora de grabar y reproducir sólo existe un único canal y en estéreo tenemos dos canales."
   ]
  },
  {
   "cell_type": "code",
   "execution_count": null,
   "id": "589a0727-1df7-4420-9d61-f38f3580aa2e",
   "metadata": {},
   "outputs": [],
   "source": []
  }
 ],
 "metadata": {
  "kernelspec": {
   "display_name": "audiopy",
   "language": "python",
   "name": "audiopy"
  },
  "language_info": {
   "codemirror_mode": {
    "name": "ipython",
    "version": 3
   },
   "file_extension": ".py",
   "mimetype": "text/x-python",
   "name": "python",
   "nbconvert_exporter": "python",
   "pygments_lexer": "ipython3",
   "version": "3.11.7"
  }
 },
 "nbformat": 4,
 "nbformat_minor": 5
}
